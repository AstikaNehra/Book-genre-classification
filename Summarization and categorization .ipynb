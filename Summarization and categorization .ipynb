{
 "cells": [
  {
   "cell_type": "markdown",
   "metadata": {},
   "source": [
    "## Summarization(web scrapping)"
   ]
  },
  {
   "cell_type": "code",
   "execution_count": 72,
   "metadata": {},
   "outputs": [
    {
     "name": "stdout",
     "output_type": "stream",
     "text": [
      "https://www.sparknotes.com/lit/the-alchemist/summary/?sa=X&ved=2ahUKEwjGqeSkhaPnAhXYyDgGHYQKDGkQFjAAegQIABAB\n"
     ]
    }
   ],
   "source": [
    "try: \n",
    "    from googlesearch import search \n",
    "except ImportError:  \n",
    "    print(\"No module named 'google' found\") \n",
    "  \n",
    "query = \"summary of the alchemist\"\n",
    "  \n",
    "for j in search(query, tld=\"co.in\",num=1,start=0, stop=1, pause=1):  #num and pause\n",
    "    print(j) "
   ]
  },
  {
   "cell_type": "code",
   "execution_count": 35,
   "metadata": {},
   "outputs": [],
   "source": [
    "import requests\n",
    "from bs4 import BeautifulSoup"
   ]
  },
  {
   "cell_type": "code",
   "execution_count": 36,
   "metadata": {},
   "outputs": [],
   "source": [
    "url = j"
   ]
  },
  {
   "cell_type": "code",
   "execution_count": 37,
   "metadata": {},
   "outputs": [],
   "source": [
    "data = requests.get(url)\n",
    "soup = BeautifulSoup(data.text)"
   ]
  },
  {
   "cell_type": "code",
   "execution_count": 38,
   "metadata": {},
   "outputs": [],
   "source": [
    "import urllib.request\n",
    "from inscriptis import get_text\n",
    " \n",
    "url = j\n",
    "html = urllib.request.urlopen(url).read().decode('utf-8')\n",
    " \n",
    "text = get_text(html)"
   ]
  },
  {
   "cell_type": "code",
   "execution_count": 39,
   "metadata": {},
   "outputs": [
    {
     "name": "stdout",
     "output_type": "stream",
     "text": [
      "['A recurring dream troubles Santiago, a young and adventurous Andalusian shepherd.', '            He has the dream every time he sleeps under a sycamore tree that grows out of the ruins', '            of a church. During the dream, a child tells him to seek treasure at the foot of the', '            Egyptian pyramids. Santiago consults a gypsy woman to interpret the dream, and to his', '            surprise she tells him to go to Egypt. A strange, magical old man named Melchizedek, who', '            claims to be the King of Salem, echoes the gypsy’s advice and tells Santiago that it is', '            his Personal Legend to journey to the pyramids. Melchizedek convinces Santiago to sell', '            his flock and set off to Tangier. When Santiago arrives in Tangier, a thief robs him,', '            forcing him to find work with a local crystal merchant. The conservative and kindly', '            merchant teaches Santiago several lessons, and Santiago encourages the merchant to take', '            risks with his business. The risks pay off, and Santiago becomes a rich man in just a', '            year.', 'Santiago decides to cash in his earnings and continue pursuing his Personal', '            Legend: to find treasure at the pyramids. He joins a caravan crossing the Sahara desert', '            toward Egypt and meets an Englishman who is studying to become an alchemist. He learns a', '            lot from the Englishman during the journey. For one, he learns that the secret of', '            alchemy is written on a stone called the Emerald Tablet. The ultimate creation of', '            alchemy is the Master Work, which consists of a solid called the Philosophers Stone that', '            can turn lead to gold, and a liquid called the Elixir of Life that can cure all ills.', '            Santiago learns the Englishman is traveling with the caravan to the Saharan oasis of', '            Al-Fayoum, where a powerful, 200-year-old alchemist resides. The Englishman plans to ask', '            the alchemist the secret of his trade.', 'As it turns out, the caravan must make an extended stop in Al-Fayoum in order to', '            avoid increasingly violent tribal wars taking place in the desert. There, Santiago falls', '            in love with Fatima, who lives at the oasis. During a walk in the desert, Santiago', '            witnesses an omen that portends an attack on the historically neutral oasis. He warns', '            the tribal chieftains of the attack, and as a result, Al-Fayoum successfully defends', '            itself against the assault. The alchemist gets word of Santiago’s vision and invites', '            Santiago on a trip into the desert, during which he teaches Santiago about the', '            importance of listening to his heart and pursuing his Personal Legend. He convinces', '            Santiago to leave Fatima and the caravan for the time to finish his journey to the', '            pyramids, and he offers to accompany Santiago on the next leg of his trip.', 'While the alchemist and Santiago continue through the desert, the alchemist shares', '            much of his wisdom about the Soul of the World. They are mere days away from the', '            pyramids when a tribe of Arab soldiers captures them. In exchange for his life and the', '            life of Santiago, the alchemist hands over to the tribe all of Santiago’s money and', '            tells the soldiers that Santiago is a powerful alchemist who will turn into wind within', '            three days. Santiago feels alarmed because he has no idea how to turn into the wind, and', '            over the next three days he contemplates the desert. On the third day, he communicates', '            with the wind and the sun and coaxes them to help him create a tremendous sandstorm. He', '            prays to the Hand That Wrote All, and at the height of the storm he disappears. He', '            reappears on the other side of the camp, and the tribesmen, awed by the power of the', '            storm and by Santiago’s ability, let him and the alchemist go free.', 'The alchemist continues to travel with Santiago as far as a Coptic monastery', '            several hours from the pyramids. There, he demonstrates to Santiago his ability to turn', '            lead into gold using the Philosopher’s Stone. He gives Santiago gold and sends him off.', '            Santiago begins digging for the treasure at the foot of the pyramids, but two men accost', '            him and beat him. When Santiago speaks to them about his dream vision, they decide he', '            must have no money and let him live. Before leaving, one of the men tries to illustrate', '            the worthlessness of dreams by telling Santiago about his own dream. It concerns a', '            treasure buried in an abandoned church in Spain where a sycamore tree grows. The church', '            is the same one in which Santiago had his original dream, and he finally understands', '            where his treasure is. He returns to Spain to find a chest of jewels and gold buried', '            under the tree, and plans to return with it to Al-Fayoum, where he will reunite with', '            Fatima, who awaits him.', '', '', '', '', 'Next section', 'Part One, Section 1', '', '', '', '', '', '', '', '', '', '', '', '', 'Test your knowledge', 'Take the Plot Overview Quick Quiz', '', '', '', '', '', '', '', 'Take a study break', 'QUIZ: How Many of These Literary Jeopardy! Questions Can You Answer Correctly?', '', '', '', '', '', '', '', 'Take a study break', '6 of the Most Messed-Up Books We All Had to Read for School', '', '', '', '', '', '', '', '', '', 'The Alchemist: Popular pages', '', '', '', '', '', 'CHARACTERS', 'Character List', '', '', '', '', '', '', '', 'CHARACTERS', 'Santiago: Character Analysis', '', '', '', '', '', '', '', 'QUOTES', 'Quotes by Theme', '', '', '', '', '', '', '', 'MAIN IDEAS', 'Themes', '', '', '', '', '', '', '', 'FURTHER STUDY', 'Review Quiz', '', '', '', '', '', '', '', '', 'Take a Study Break', '', '', '', '', '', '', '', 'QUIZ: How Many of These Literary Jeopardy! Questions Can You Answer Correctly?', 'Jan 14, 2020', '', '', '', '', '', '', '', '', '', '6 of the Most Messed-Up Books We All Had to Read for School', 'Jan 23, 2020', '', '', '', '', '', '', '', '', '', \"QUIZ: What's Your Shakespearean Pick-Up Line?\", 'Jan 20, 2020', '', '', '', '', '', '', '', '', '', \"Pick 10 Books and We'll Guess Whether You're an Introvert or an Extrovert\", 'Jan 7, 2020', '', '', '', '', '', '', '', '', '', 'Every Shakespeare Play Summed Up in a Quote from The Office', 'Dec 27, 2019']\n"
     ]
    }
   ],
   "source": [
    "quote_divs = soup.find_all(\"div\", attrs={\"class\": \"layout-wrapper-2018\"})\n",
    "quote_div = quote_divs[0]\n",
    "a = quote_div.text\n",
    "quote_details = a.strip().split(\"\\n\")\n",
    "print(quote_details)"
   ]
  },
  {
   "cell_type": "code",
   "execution_count": 40,
   "metadata": {},
   "outputs": [
    {
     "data": {
      "text/plain": [
       "['A recurring dream troubles Santiago, a young and adventurous Andalusian shepherd.',\n",
       " '            He has the dream every time he sleeps under a sycamore tree that grows out of the ruins',\n",
       " '            of a church. During the dream, a child tells him to seek treasure at the foot of the',\n",
       " '            Egyptian pyramids. Santiago consults a gypsy woman to interpret the dream, and to his',\n",
       " '            surprise she tells him to go to Egypt. A strange, magical old man named Melchizedek, who',\n",
       " '            claims to be the King of Salem, echoes the gypsy’s advice and tells Santiago that it is',\n",
       " '            his Personal Legend to journey to the pyramids. Melchizedek convinces Santiago to sell',\n",
       " '            his flock and set off to Tangier. When Santiago arrives in Tangier, a thief robs him,',\n",
       " '            forcing him to find work with a local crystal merchant. The conservative and kindly',\n",
       " '            merchant teaches Santiago several lessons, and Santiago encourages the merchant to take',\n",
       " '            risks with his business. The risks pay off, and Santiago becomes a rich man in just a',\n",
       " '            year.',\n",
       " 'Santiago decides to cash in his earnings and continue pursuing his Personal',\n",
       " '            Legend: to find treasure at the pyramids. He joins a caravan crossing the Sahara desert',\n",
       " '            toward Egypt and meets an Englishman who is studying to become an alchemist. He learns a']"
      ]
     },
     "execution_count": 40,
     "metadata": {},
     "output_type": "execute_result"
    }
   ],
   "source": [
    "quote_text = quote_details[0:15]\n",
    "quote_text"
   ]
  },
  {
   "cell_type": "code",
   "execution_count": 41,
   "metadata": {},
   "outputs": [],
   "source": [
    "from nltk.tokenize import sent_tokenize,word_tokenize\n",
    "from nltk.corpus import stopwords #unnecessary words removal( it,of etc)\n",
    "from nltk.stem import PorterStemmer #used for categorizing similar meaning words together(eg: jump,jumps)\n",
    "from nltk.tokenize.treebank import TreebankWordDetokenizer\n"
   ]
  },
  {
   "cell_type": "code",
   "execution_count": 42,
   "metadata": {},
   "outputs": [],
   "source": [
    "text_string=TreebankWordDetokenizer().detokenize(quote_details)"
   ]
  },
  {
   "cell_type": "code",
   "execution_count": 43,
   "metadata": {},
   "outputs": [],
   "source": [
    "def _create_frequency_table(text_string) -> dict:\n",
    "\n",
    "    stopWords = set(stopwords.words(\"english\"))\n",
    "    words = word_tokenize(text_string)\n",
    "    ps = PorterStemmer()\n",
    "\n",
    "    freqTable = dict()\n",
    "    for word in words:\n",
    "        word = ps.stem(word)\n",
    "        if word in stopWords:\n",
    "            continue\n",
    "        if word in freqTable:\n",
    "            freqTable[word] += 1\n",
    "        else:\n",
    "            freqTable[word] = 1\n",
    "\n",
    "    return freqTable"
   ]
  },
  {
   "cell_type": "code",
   "execution_count": 44,
   "metadata": {},
   "outputs": [],
   "source": [
    "def _score_sentences(sentences, freqTable) -> dict:\n",
    "    sentenceValue = dict()\n",
    "\n",
    "    for sentence in sentences:\n",
    "        word_count_in_sentence = (len(word_tokenize(sentence)))\n",
    "        \n",
    "        for wordValue in freqTable:\n",
    "            if wordValue in sentence.lower():\n",
    "                if sentence[:10] in sentenceValue:\n",
    "                    sentenceValue[sentence[:10]] += freqTable[wordValue]\n",
    "                else:\n",
    "                    sentenceValue[sentence[:10]] = freqTable[wordValue]\n",
    "\n",
    "        sentenceValue[sentence[:10]] = sentenceValue[sentence[:10]] // word_count_in_sentence\n",
    "\n",
    "    return sentenceValue"
   ]
  },
  {
   "cell_type": "code",
   "execution_count": 45,
   "metadata": {},
   "outputs": [],
   "source": [
    "def _find_average_score(sentenceValue) -> int:\n",
    "    sumValues = 0\n",
    "    for entry in sentenceValue:\n",
    "        sumValues += sentenceValue[entry]\n",
    "\n",
    "    # Average value of a sentence from original text\n",
    "    average = int(sumValues / len(sentenceValue))\n",
    "\n",
    "    return average"
   ]
  },
  {
   "cell_type": "code",
   "execution_count": 46,
   "metadata": {},
   "outputs": [],
   "source": [
    "def _generate_summary(sentences, sentenceValue, threshold):\n",
    "    sentence_count = 0\n",
    "    summary = ''\n",
    "\n",
    "    for sentence in sentences:\n",
    "        if sentence[:10] in sentenceValue and sentenceValue[sentence[:10]] > (threshold):\n",
    "            summary += \" \" + sentence\n",
    "            sentence_count += 1\n",
    "\n",
    "    return summary"
   ]
  },
  {
   "cell_type": "code",
   "execution_count": 54,
   "metadata": {},
   "outputs": [
    {
     "name": "stdout",
     "output_type": "stream",
     "text": [
      "{'A': 2, 'recur': 1, 'dream': 8, 'troubl': 1, 'santiago': 31, ',': 45, 'young': 1, 'adventur': 1, 'andalusian': 1, 'shepherd': 1, '.': 38, 'He': 9, 'ha': 2, 'everi': 2, 'time': 2, 'sleep': 1, 'sycamor': 2, 'tree': 3, 'grow': 2, 'ruin': 1, 'church': 3, 'dure': 4, 'child': 1, 'tell': 5, 'seek': 1, 'treasur': 5, 'foot': 2, 'egyptian': 1, 'pyramid': 7, 'consult': 1, 'gypsi': 2, 'woman': 1, 'interpret': 1, 'hi': 18, 'surpris': 1, 'go': 2, 'egypt': 2, 'strang': 1, 'magic': 1, 'old': 1, 'man': 2, 'name': 1, 'melchizedek': 2, 'claim': 1, 'king': 1, 'salem': 1, 'echo': 1, '’': 5, 'advic': 1, 'person': 3, 'legend': 3, 'journey': 3, 'convinc': 2, 'sell': 1, 'flock': 1, 'set': 1, 'tangier': 2, 'arriv': 1, 'thief': 1, 'rob': 1, 'forc': 1, 'find': 3, 'work': 2, 'local': 1, 'crystal': 1, 'merchant': 3, 'conserv': 1, 'kindli': 1, 'teach': 2, 'sever': 2, 'lesson': 1, 'encourag': 1, 'take': 6, 'risk': 2, 'busi': 1, 'pay': 1, 'becom': 2, 'rich': 1, 'year': 1, 'decid': 2, 'cash': 1, 'earn': 1, 'continu': 3, 'pursu': 2, ':': 6, 'join': 1, 'caravan': 4, 'cross': 1, 'sahara': 1, 'desert': 6, 'toward': 1, 'meet': 1, 'englishman': 4, 'studi': 5, 'alchemist': 11, 'learn': 3, 'lot': 1, 'one': 4, 'secret': 2, 'alchemi': 2, 'written': 1, 'stone': 3, 'call': 3, 'emerald': 1, 'tablet': 1, 'ultim': 1, 'creation': 1, 'master': 1, 'consist': 1, 'solid': 1, 'philosoph': 2, 'turn': 5, 'lead': 2, 'gold': 4, 'liquid': 1, 'elixir': 1, 'life': 3, 'cure': 1, 'ill': 1, 'travel': 2, 'saharan': 1, 'oasi': 3, 'al-fayoum': 4, 'power': 3, '200-year-old': 1, 'resid': 1, 'plan': 2, 'ask': 1, 'trade': 1, 'As': 1, 'must': 2, 'make': 1, 'extend': 1, 'stop': 1, 'order': 1, 'avoid': 1, 'increasingli': 1, 'violent': 1, 'tribal': 2, 'war': 1, 'place': 1, 'fall': 1, 'love': 1, 'fatima': 3, 'live': 2, 'walk': 1, 'wit': 1, 'omen': 1, 'portend': 1, 'attack': 2, 'histor': 1, 'neutral': 1, 'warn': 1, 'chieftain': 1, 'result': 1, 'success': 1, 'defend': 1, 'assault': 1, 'get': 1, 'word': 1, 'vision': 2, 'invit': 1, 'trip': 2, 'import': 1, 'listen': 1, 'heart': 1, 'leav': 2, 'finish': 1, 'offer': 1, 'accompani': 1, 'next': 3, 'leg': 1, 'share': 1, 'much': 1, 'wisdom': 1, 'soul': 1, 'world': 1, 'mere': 1, 'day': 4, 'away': 1, 'tribe': 2, 'arab': 1, 'soldier': 2, 'captur': 1, 'In': 1, 'exchang': 1, 'hand': 2, 'money': 2, 'wind': 3, 'within': 1, 'three': 2, 'feel': 1, 'alarm': 1, 'becaus': 1, 'idea': 2, 'contempl': 1, 'On': 1, 'third': 1, 'commun': 1, 'sun': 1, 'coax': 1, 'help': 1, 'creat': 1, 'tremend': 1, 'sandstorm': 1, 'pray': 1, 'wrote': 1, 'height': 1, 'storm': 2, 'disappear': 1, 'reappear': 1, 'side': 1, 'camp': 1, 'tribesmen': 1, 'awe': 1, 'abil': 2, 'let': 2, 'free': 1, 'far': 1, 'coptic': 1, 'monasteri': 1, 'hour': 1, 'demonstr': 1, 'use': 1, 'give': 1, 'send': 1, 'begin': 1, 'dig': 1, 'two': 1, 'men': 2, 'accost': 1, 'beat': 1, 'speak': 1, 'befor': 1, 'tri': 1, 'illustr': 1, 'worthless': 1, 'It': 1, 'concern': 1, 'buri': 2, 'abandon': 1, 'spain': 2, 'origin': 1, 'final': 1, 'understand': 1, 'return': 2, 'chest': 1, 'jewel': 1, 'reunit': 1, 'await': 1, 'section': 2, 'part': 1, '1': 1, 'test': 1, 'knowledg': 1, 'plot': 1, 'overview': 1, 'quick': 1, 'quiz': 5, 'break': 3, 'mani': 2, 'literari': 2, 'jeopardi': 2, '!': 2, 'question': 2, 'answer': 2, 'correctli': 2, '?': 3, '6': 2, 'messed-up': 2, 'book': 3, 'We': 3, 'read': 2, 'school': 2, 'popular': 1, 'page': 1, 'charact': 4, 'list': 1, 'analysi': 1, 'quot': 3, 'theme': 2, 'main': 1, 'review': 1, 'jan': 4, '14': 1, '2020': 4, '23': 1, \"'s\": 1, 'shakespearean': 1, 'pick-up': 1, 'line': 1, '20': 1, 'pick': 1, '10': 1, \"'ll\": 1, 'guess': 1, 'whether': 1, \"'re\": 1, 'introvert': 1, 'extrovert': 1, '7': 1, 'shakespear': 1, 'play': 1, 'sum': 1, 'Up': 1, 'offic': 1, 'dec': 1, '27': 1, '2019': 1}\n",
      "\n",
      "\n",
      "{'A recurrin': 10, 'He has the': 2, 'During the': 7, 'Santiago c': 7, 'A strange,': 4, 'Melchizede': 7, 'When Santi': 7, 'The conser': 7, 'The risks ': 7, 'Santiago d': 6, 'He joins a': 3, 'He learns ': 4, 'For one, h': 5, 'The ultima': 3, 'Santiago l': 6, 'The Englis': 6, 'As it turn': 4, 'There, San': 8, 'During a w': 7, 'He warns  ': 5, 'The alchem': 5, 'He convinc': 4, 'While the ': 6, 'They are m': 3, 'In exchang': 4, 'Santiago f': 5, 'On the thi': 5, 'He        ': 4, 'There, he ': 8, 'He gives S': 10, 'Santiago b': 7, 'Before lea': 7, 'It concern': 3, 'The church': 6, 'He returns': 3, 'Next secti': 2, 'Questions ': 1, 'Take a stu': 1, 'Jan 14, 20': 3, 'Jan 20, 20': 2}\n",
      "\n",
      "\n",
      "5\n",
      "\n",
      "\n",
      " A recurring dream troubles Santiago, a young and adventurous Andalusian shepherd. There, Santiago falls             in love with Fatima, who lives at the oasis. There, he demonstrates to Santiago his ability to turn             lead into gold using the Philosopher’s Stone. He gives Santiago gold and sends him off.\n"
     ]
    }
   ],
   "source": [
    "# 1 Create the word frequency table\n",
    "freq_table = _create_frequency_table(text_string)\n",
    "print(freq_table)\n",
    "print(\"\\n\")\n",
    "\n",
    "'''\n",
    "We already have a sentence tokenizer, so we just need \n",
    "to run the sent_tokenize() method to create the array of sentences.\n",
    "'''\n",
    "\n",
    "# 2 Tokenize the sentences\n",
    "sentences = sent_tokenize(text_string)\n",
    "\n",
    "# 3 Important Algorithm: score the sentences\n",
    "sentence_scores = _score_sentences(sentences, freq_table)\n",
    "print(sentence_scores)\n",
    "print(\"\\n\")\n",
    "\n",
    "# 4 Find the threshold\n",
    "threshold = _find_average_score(sentence_scores)\n",
    "print(threshold)\n",
    "print(\"\\n\")\n",
    "\n",
    "# 5 Important Algorithm: Generate the summary\n",
    "summary = _generate_summary(sentences, sentence_scores, 1.5 * threshold)\n",
    "\n",
    "print(summary)"
   ]
  },
  {
   "cell_type": "markdown",
   "metadata": {},
   "source": [
    "### Categorization"
   ]
  },
  {
   "cell_type": "code",
   "execution_count": 55,
   "metadata": {},
   "outputs": [],
   "source": [
    "from nltk.corpus import brown"
   ]
  },
  {
   "cell_type": "code",
   "execution_count": 56,
   "metadata": {},
   "outputs": [],
   "source": [
    "def find_similarity(X,Y):\n",
    "    # tokenization \n",
    "    X_list = word_tokenize(X)  \n",
    "    Y_list = word_tokenize(Y) \n",
    "  \n",
    "    # sw contains the list of stopwords \n",
    "    sw = stopwords.words('english')  \n",
    "    l1 =[];l2 =[] \n",
    "  \n",
    "    # remove stop words from string \n",
    "    X_set = {w for w in X_list if not w in sw}  \n",
    "    Y_set = {w for w in Y_list if not w in sw} \n",
    "  \n",
    "    # form a set containing keywords of both strings  \n",
    "    rvector = X_set.union(Y_set)  \n",
    "    for w in rvector: \n",
    "        if w in X_set: l1.append(1) # create a vector \n",
    "        else: l1.append(0) \n",
    "        if w in Y_set: l2.append(1) \n",
    "        else: l2.append(0) \n",
    "    c = 0\n",
    "  \n",
    "    # cosine formula  \n",
    "    for i in range(len(rvector)): \n",
    "            c+= l1[i]*l2[i] \n",
    "    cosine = c / float((sum(l1)*sum(l2))**0.5) \n",
    "    return cosine"
   ]
  },
  {
   "cell_type": "code",
   "execution_count": 64,
   "metadata": {},
   "outputs": [],
   "source": [
    "from heapq import nlargest"
   ]
  },
  {
   "cell_type": "code",
   "execution_count": 68,
   "metadata": {},
   "outputs": [],
   "source": [
    "def find_genre(summary):\n",
    "    \n",
    "    g1=brown.sents(categories='mystery')\n",
    "    g1_len=len(g1)\n",
    "    g2=brown.sents(categories='editorial')\n",
    "    g2_len=len(g2)\n",
    "    g3=brown.sents(categories='fiction')\n",
    "    g3_len=len(g3)\n",
    "    g4=brown.sents(categories='humor')\n",
    "    g4_len=len(g4)\n",
    "    g5=brown.sents(categories='lore')\n",
    "    g5_len=len(g5)\n",
    "    g6=brown.sents(categories='religion')\n",
    "    g6_len=len(g6)\n",
    "    g7=brown.sents(categories='romance')\n",
    "    g7_len=len(g7)\n",
    "    g8=brown.sents(categories='science_fiction')\n",
    "    g8_len=len(g8)\n",
    "    \n",
    "    X=sent_tokenize(summary)\n",
    "    X_len=len(X)\n",
    "    #print(X)\n",
    "    #print(X_len)\n",
    "    \n",
    "    sum1=0\n",
    "    for i in g1:\n",
    "        #print(i)\n",
    "        Y=' '.join(word for word in i)\n",
    "        #print(Y)\n",
    "        for ii in X:\n",
    "            #print(ii)\n",
    "            a=find_similarity(Y,ii)\n",
    "            sum1=sum1+a\n",
    "            avg1=sum1/(g1_len)\n",
    "    #print(avg1)\n",
    "    \n",
    "    sum2=0\n",
    "    for j in g2:\n",
    "        #print(i)\n",
    "        Y=' '.join(word for word in j)\n",
    "        #print(Y)\n",
    "        for jj in X:\n",
    "            #print(ii)\n",
    "            a=find_similarity(Y,jj)\n",
    "            sum2=sum2+a\n",
    "            avg2=sum2/(g2_len)\n",
    "    #print(avg2)\n",
    "    \n",
    "    sum3=0\n",
    "    for k in g3:\n",
    "        #print(i)\n",
    "        Y=' '.join(word for word in k)\n",
    "        #print(Y)\n",
    "        for kk in X:\n",
    "            #print(ii)\n",
    "            a=find_similarity(Y,kk)\n",
    "            sum3=sum3+a\n",
    "            avg3=sum3/(g3_len)\n",
    "    #print(avg3)\n",
    "    \n",
    "    sum4=0\n",
    "    for l in g4:\n",
    "        #print(i)\n",
    "        Y=' '.join(word for word in l)\n",
    "        #print(Y)\n",
    "        for ll in X:\n",
    "            #print(ii)\n",
    "            a=find_similarity(Y,ll)\n",
    "            sum4=sum4+a\n",
    "            avg4=sum4/(g4_len)\n",
    "    #print(avg4)\n",
    "    \n",
    "    sum5=0\n",
    "    for m in g5:\n",
    "        #print(i)\n",
    "        Y=' '.join(word for word in m)\n",
    "        #print(Y)\n",
    "        for mm in X:\n",
    "            #print(ii)\n",
    "            a=find_similarity(Y,mm)\n",
    "            sum5=sum5+a\n",
    "            avg5=sum5/(g5_len)\n",
    "    #print(avg5)\n",
    "    \n",
    "    sum6=0\n",
    "    for n in g6:\n",
    "        #print(i)\n",
    "        Y=' '.join(word for word in n)\n",
    "        #print(Y)\n",
    "        for nn in X:\n",
    "            #print(ii)\n",
    "            a=find_similarity(Y,nn)\n",
    "            sum6=sum6+a\n",
    "            avg6=sum6/(g6_len)\n",
    "    #print(avg6)\n",
    "    \n",
    "    sum7=0\n",
    "    for o in g7:\n",
    "        #print(i)\n",
    "        Y=' '.join(word for word in o)\n",
    "        #print(Y)\n",
    "        for oo in X:\n",
    "            #print(ii)\n",
    "            a=find_similarity(Y,oo)\n",
    "            sum7=sum7+a\n",
    "            avg7=sum7/(g7_len)\n",
    "    #print(avg7)\n",
    "    \n",
    "    sum8=0\n",
    "    for p in g8:\n",
    "        #print(i)\n",
    "        Y=' '.join(word for word in p)\n",
    "        #print(Y)\n",
    "        for pp in X:\n",
    "            #print(ii)\n",
    "            a=find_similarity(Y,pp)\n",
    "            sum8=sum8+a\n",
    "            avg8=sum8/(g1_len)\n",
    "    #print(avg8)\n",
    "            \n",
    "    \n",
    "            \n",
    "    l=[avg1,avg2,avg3,avg4,avg5,avg6,avg7,avg8]\n",
    "    #print(l)\n",
    "    Tv = {'mystery':avg1,'editorial':avg2,'fiction':avg3,'humor':avg4,'lore':avg5,'religion':avg6,'romance':avg7,'science_fiction':avg8} \n",
    "  \n",
    "    #Keymax = max(Tv, key=Tv.get) \n",
    "    #print(Keymax) \n",
    "     \n",
    "    three_largest = nlargest(3,Tv , key=Tv.get)\n",
    "    print(three_largest) \n"
   ]
  },
  {
   "cell_type": "code",
   "execution_count": 73,
   "metadata": {},
   "outputs": [
    {
     "name": "stdout",
     "output_type": "stream",
     "text": [
      "['mystery', 'romance', 'fiction']\n"
     ]
    }
   ],
   "source": [
    "find_genre(summary)"
   ]
  },
  {
   "cell_type": "code",
   "execution_count": null,
   "metadata": {},
   "outputs": [],
   "source": []
  }
 ],
 "metadata": {
  "kernelspec": {
   "display_name": "Python 3",
   "language": "python",
   "name": "python3"
  },
  "language_info": {
   "codemirror_mode": {
    "name": "ipython",
    "version": 3
   },
   "file_extension": ".py",
   "mimetype": "text/x-python",
   "name": "python",
   "nbconvert_exporter": "python",
   "pygments_lexer": "ipython3",
   "version": "3.7.6"
  }
 },
 "nbformat": 4,
 "nbformat_minor": 2
}
